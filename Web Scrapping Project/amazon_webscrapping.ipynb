{
 "cells": [
  {
   "cell_type": "code",
   "execution_count": 2,
   "id": "8f1267de",
   "metadata": {},
   "outputs": [
    {
     "name": "stdout",
     "output_type": "stream",
     "text": [
      "Requirement already satisfied: selenium in c:\\users\\syed hasham hameed\\anaconda3\\lib\\site-packages (4.16.0)\n",
      "Requirement already satisfied: trio-websocket~=0.9 in c:\\users\\syed hasham hameed\\anaconda3\\lib\\site-packages (from selenium) (0.11.1)\n",
      "Requirement already satisfied: certifi>=2021.10.8 in c:\\users\\syed hasham hameed\\anaconda3\\lib\\site-packages (from selenium) (2022.12.7)\n",
      "Requirement already satisfied: urllib3[socks]<3,>=1.26 in c:\\users\\syed hasham hameed\\anaconda3\\lib\\site-packages (from selenium) (1.26.14)\n",
      "Requirement already satisfied: trio~=0.17 in c:\\users\\syed hasham hameed\\anaconda3\\lib\\site-packages (from selenium) (0.24.0)\n",
      "Requirement already satisfied: attrs>=20.1.0 in c:\\users\\syed hasham hameed\\anaconda3\\lib\\site-packages (from trio~=0.17->selenium) (22.1.0)\n",
      "Requirement already satisfied: outcome in c:\\users\\syed hasham hameed\\anaconda3\\lib\\site-packages (from trio~=0.17->selenium) (1.3.0.post0)\n",
      "Requirement already satisfied: cffi>=1.14 in c:\\users\\syed hasham hameed\\anaconda3\\lib\\site-packages (from trio~=0.17->selenium) (1.15.1)\n",
      "Requirement already satisfied: idna in c:\\users\\syed hasham hameed\\anaconda3\\lib\\site-packages (from trio~=0.17->selenium) (3.4)\n",
      "Requirement already satisfied: sortedcontainers in c:\\users\\syed hasham hameed\\anaconda3\\lib\\site-packages (from trio~=0.17->selenium) (2.4.0)\n",
      "Requirement already satisfied: exceptiongroup in c:\\users\\syed hasham hameed\\anaconda3\\lib\\site-packages (from trio~=0.17->selenium) (1.2.0)\n",
      "Requirement already satisfied: sniffio>=1.3.0 in c:\\users\\syed hasham hameed\\anaconda3\\lib\\site-packages (from trio~=0.17->selenium) (1.3.0)\n",
      "Requirement already satisfied: wsproto>=0.14 in c:\\users\\syed hasham hameed\\anaconda3\\lib\\site-packages (from trio-websocket~=0.9->selenium) (1.2.0)\n",
      "Requirement already satisfied: PySocks!=1.5.7,<2.0,>=1.5.6 in c:\\users\\syed hasham hameed\\anaconda3\\lib\\site-packages (from urllib3[socks]<3,>=1.26->selenium) (1.7.1)\n",
      "Requirement already satisfied: pycparser in c:\\users\\syed hasham hameed\\anaconda3\\lib\\site-packages (from cffi>=1.14->trio~=0.17->selenium) (2.21)\n",
      "Requirement already satisfied: h11<1,>=0.9.0 in c:\\users\\syed hasham hameed\\anaconda3\\lib\\site-packages (from wsproto>=0.14->trio-websocket~=0.9->selenium) (0.14.0)\n",
      "Requirement already satisfied: bs4 in c:\\users\\syed hasham hameed\\anaconda3\\lib\\site-packages (0.0.1)\n",
      "Requirement already satisfied: beautifulsoup4 in c:\\users\\syed hasham hameed\\anaconda3\\lib\\site-packages (from bs4) (4.11.1)\n",
      "Requirement already satisfied: soupsieve>1.2 in c:\\users\\syed hasham hameed\\anaconda3\\lib\\site-packages (from beautifulsoup4->bs4) (2.3.2.post1)\n"
     ]
    }
   ],
   "source": [
    "!pip install selenium\n",
    "!pip install bs4"
   ]
  },
  {
   "cell_type": "code",
   "execution_count": 6,
   "id": "7de66e3b",
   "metadata": {},
   "outputs": [
    {
     "name": "stdout",
     "output_type": "stream",
     "text": [
      "Collecting chromedriver_binary\n",
      "  Downloading chromedriver-binary-122.0.6251.0.0.tar.gz (5.6 kB)\n",
      "  Preparing metadata (setup.py): started\n",
      "  Preparing metadata (setup.py): finished with status 'done'\n",
      "Building wheels for collected packages: chromedriver_binary\n",
      "  Building wheel for chromedriver_binary (setup.py): started\n",
      "  Building wheel for chromedriver_binary (setup.py): finished with status 'done'\n",
      "  Created wheel for chromedriver_binary: filename=chromedriver_binary-122.0.6251.0.0-py3-none-any.whl size=8459642 sha256=e45e4cca97789bedb36dd250b9a75d4749b42d54f3b9d59288e752a36dbd66bc\n",
      "  Stored in directory: c:\\users\\syed hasham hameed\\appdata\\local\\pip\\cache\\wheels\\e7\\62\\83\\61108be18922da14b7a9d96d8b80a4c3f7c854fd2627748893\n",
      "Successfully built chromedriver_binary\n",
      "Installing collected packages: chromedriver_binary\n",
      "Successfully installed chromedriver_binary-122.0.6251.0.0\n"
     ]
    }
   ],
   "source": [
    "!pip install chromedriver_binary"
   ]
  },
  {
   "cell_type": "code",
   "execution_count": 7,
   "id": "8b8f26f1",
   "metadata": {},
   "outputs": [],
   "source": [
    "from selenium import webdriver \n",
    "import chromedriver_binary"
   ]
  },
  {
   "cell_type": "code",
   "execution_count": 93,
   "id": "8b15cf14",
   "metadata": {},
   "outputs": [],
   "source": [
    "driver = webdriver.Chrome()"
   ]
  },
  {
   "cell_type": "code",
   "execution_count": 95,
   "id": "ed26dbd7",
   "metadata": {},
   "outputs": [],
   "source": [
    "url= 'https://www.amazon.com/'"
   ]
  },
  {
   "cell_type": "code",
   "execution_count": 96,
   "id": "035b2259",
   "metadata": {},
   "outputs": [],
   "source": [
    "driver.get(url)"
   ]
  },
  {
   "cell_type": "code",
   "execution_count": 97,
   "id": "fe46aed9",
   "metadata": {},
   "outputs": [],
   "source": [
    "def get_url(keyword):\n",
    "    temp=\"https://www.amazon.com/s?k={}&ref=nb_sb_noss_2\"\n",
    "    keyword = keyword.replace(\" \",\"+\")\n",
    "    temp = temp.format(keyword)\n",
    "    return temp"
   ]
  },
  {
   "cell_type": "code",
   "execution_count": 98,
   "id": "28e6bbd8",
   "metadata": {},
   "outputs": [
    {
     "name": "stdout",
     "output_type": "stream",
     "text": [
      "https://www.amazon.com/s?k=laptop+charger&ref=nb_sb_noss_2\n"
     ]
    }
   ],
   "source": [
    "url1 = get_url(\"laptop charger\")\n",
    "print(url1)"
   ]
  },
  {
   "cell_type": "code",
   "execution_count": 99,
   "id": "38753d54",
   "metadata": {},
   "outputs": [],
   "source": [
    "driver.get(url1)"
   ]
  },
  {
   "cell_type": "code",
   "execution_count": 101,
   "id": "f2f6cc12",
   "metadata": {},
   "outputs": [],
   "source": [
    "from bs4 import BeautifulSoup\n",
    "\n",
    "soup = BeautifulSoup(driver.page_source,\"html.parser\")"
   ]
  },
  {
   "cell_type": "code",
   "execution_count": 102,
   "id": "c20ab838",
   "metadata": {},
   "outputs": [],
   "source": [
    "soup_results = soup.find_all(\"div\",{\"data-component-type\":\"s-search-result\"})"
   ]
  },
  {
   "cell_type": "code",
   "execution_count": 103,
   "id": "6de6a8dc",
   "metadata": {},
   "outputs": [
    {
     "data": {
      "text/plain": [
       "20"
      ]
     },
     "execution_count": 103,
     "metadata": {},
     "output_type": "execute_result"
    }
   ],
   "source": [
    "len(soup_results)"
   ]
  },
  {
   "cell_type": "code",
   "execution_count": 104,
   "id": "d6d9a123",
   "metadata": {},
   "outputs": [],
   "source": [
    "obj = soup_results[0]"
   ]
  },
  {
   "cell_type": "code",
   "execution_count": 108,
   "id": "45c0fc45",
   "metadata": {},
   "outputs": [],
   "source": [
    "span_tag = obj.find(\"span\",\"a-icon-alt\").text"
   ]
  },
  {
   "cell_type": "code",
   "execution_count": 109,
   "id": "a0394cbc",
   "metadata": {},
   "outputs": [
    {
     "name": "stdout",
     "output_type": "stream",
     "text": [
      "4.6 out of 5 stars\n"
     ]
    }
   ],
   "source": [
    "print(span_tag)"
   ]
  },
  {
   "cell_type": "code",
   "execution_count": 111,
   "id": "289e4749",
   "metadata": {},
   "outputs": [
    {
     "name": "stdout",
     "output_type": "stream",
     "text": [
      "21\n"
     ]
    }
   ],
   "source": [
    "price = obj.find('span', {'class': 'a-size-base'}).text\n",
    "print(price)"
   ]
  },
  {
   "cell_type": "markdown",
   "id": "61a644ce",
   "metadata": {},
   "source": [
    "# FUNCTION TO GET EVERYTHING AT ONCE"
   ]
  },
  {
   "cell_type": "code",
   "execution_count": 92,
   "id": "fe28f962",
   "metadata": {},
   "outputs": [],
   "source": [
    "def get_url(keyword):\n",
    "    temp = \"https://www.amazon.com/s?k={}&ref=nb_sb_noss_2\"\n",
    "    keyword = keyword.replace(\" \",\"+\")\n",
    "    temp = temp.format(keyword)\n",
    "    \n",
    "    temp += \"&page={}\"\n",
    "    \n",
    "    return temp \n",
    "\n",
    "def extract(obj):\n",
    "    \n",
    "    h2_tag = obj.find('h2')\n",
    "    \n",
    "    if h2_tag:\n",
    "        atag = h2_tag.find('a')\n",
    "    else:\n",
    "        None\n",
    "        \n",
    "    if atag:\n",
    "        description = atag.get_text(strip=True)\n",
    "    else:\n",
    "        description = None \n",
    "\n",
    "    \n",
    "    \n",
    "    try:\n",
    "        span_p = obj.find(\"span\",\"a-price\")\n",
    "        price = span_p.find(\"span\",\"a-offscreen\").text\n",
    "    \n",
    "    except AttributeError:\n",
    "        return\n",
    "    \n",
    "    try:\n",
    "        ratings = obj.find(\"span\",\"a-icon-alt\").text\n",
    "        reviews = obj.find('span', {'class': 'a-size-base'}).text\n",
    "        \n",
    "    except AttributeError:\n",
    "        ratings = \"\"\n",
    "        reviews = \"\"\n",
    "    \n",
    "    \n",
    "    rec = (description, price, ratings, reviews)\n",
    "    \n",
    "    return rec\n",
    "\n",
    "\n",
    "def main(keyword):\n",
    "    import csv\n",
    "    \n",
    "    records = []\n",
    "    \n",
    "    driver = webdriver.Chrome()\n",
    "    \n",
    "    url = get_url(keyword)\n",
    "    \n",
    "    \n",
    "    \n",
    "    for page in range(1,25):\n",
    "        \n",
    "        driver.get(url.format(page))\n",
    "        soup = BeautifulSoup(driver.page_source,\"html.parser\")\n",
    "        soup_data = soup.find_all(\"div\",{\"data-component-type\":\"s-search-result\"})\n",
    "        \n",
    "        for i in soup_data:\n",
    "            measures = extract(i)\n",
    "        \n",
    "            if measures:\n",
    "                records.append(measures)\n",
    "                \n",
    "            \n",
    "    driver.quit()\n",
    "            \n",
    "    with open('Resultsscrap1.csv', 'w', newline='', encoding='utf-8') as f:\n",
    "        writer = csv.writer(f)\n",
    "        writer.writerow(['Description', 'Price', 'Rating', 'Reviews'])\n",
    "        writer.writerows(records)\n",
    "            \n",
    "    \n",
    "    "
   ]
  },
  {
   "cell_type": "code",
   "execution_count": 112,
   "id": "f3644f81",
   "metadata": {},
   "outputs": [],
   "source": [
    "main(\"golf clubs\")"
   ]
  }
 ],
 "metadata": {
  "kernelspec": {
   "display_name": "Python 3 (ipykernel)",
   "language": "python",
   "name": "python3"
  },
  "language_info": {
   "codemirror_mode": {
    "name": "ipython",
    "version": 3
   },
   "file_extension": ".py",
   "mimetype": "text/x-python",
   "name": "python",
   "nbconvert_exporter": "python",
   "pygments_lexer": "ipython3",
   "version": "3.10.9"
  }
 },
 "nbformat": 4,
 "nbformat_minor": 5
}
